{
  "nbformat": 4,
  "nbformat_minor": 0,
  "metadata": {
    "colab": {
      "provenance": [],
      "include_colab_link": true
    },
    "kernelspec": {
      "name": "python3",
      "display_name": "Python 3"
    },
    "language_info": {
      "name": "python"
    }
  },
  "cells": [
    {
      "cell_type": "markdown",
      "metadata": {
        "id": "view-in-github",
        "colab_type": "text"
      },
      "source": [
        "<a href=\"https://colab.research.google.com/github/nikitanguturi/heinwebdriver/blob/main/HeinWebDriver.ipynb\" target=\"_parent\"><img src=\"https://colab.research.google.com/assets/colab-badge.svg\" alt=\"Open In Colab\"/></a>"
      ]
    },
    {
      "cell_type": "markdown",
      "source": [
        "###Section 0: User Definition"
      ],
      "metadata": {
        "id": "3Yc-p62Nailb"
      }
    },
    {
      "cell_type": "code",
      "execution_count": 1,
      "metadata": {
        "id": "F-tMO5eHaVhE",
        "colab": {
          "base_uri": "https://localhost:8080/",
          "height": 333
        },
        "outputId": "2ca7dfc1-57cd-4f73-869c-151dd0d04f85"
      },
      "outputs": [
        {
          "output_type": "error",
          "ename": "FileNotFoundError",
          "evalue": "[Errno 2] No such file or directory: '/content/drive/MyDrive/Hein Scrapper/authorTestSheet.csv'",
          "traceback": [
            "\u001b[0;31m---------------------------------------------------------------------------\u001b[0m",
            "\u001b[0;31mFileNotFoundError\u001b[0m                         Traceback (most recent call last)",
            "\u001b[0;32m<ipython-input-1-2a51b6e9b205>\u001b[0m in \u001b[0;36m<cell line: 5>\u001b[0;34m()\u001b[0m\n\u001b[1;32m      9\u001b[0m \u001b[0;34m\u001b[0m\u001b[0m\n\u001b[1;32m     10\u001b[0m   \u001b[0;31m# Load author data into a DataFrame\u001b[0m\u001b[0;34m\u001b[0m\u001b[0;34m\u001b[0m\u001b[0m\n\u001b[0;32m---> 11\u001b[0;31m   \u001b[0mauthor_data\u001b[0m \u001b[0;34m=\u001b[0m \u001b[0mpd\u001b[0m\u001b[0;34m.\u001b[0m\u001b[0mread_csv\u001b[0m\u001b[0;34m(\u001b[0m\u001b[0mauthor_data_path\u001b[0m\u001b[0;34m)\u001b[0m\u001b[0;34m\u001b[0m\u001b[0;34m\u001b[0m\u001b[0m\n\u001b[0m",
            "\u001b[0;32m/usr/local/lib/python3.10/dist-packages/pandas/io/parsers/readers.py\u001b[0m in \u001b[0;36mread_csv\u001b[0;34m(filepath_or_buffer, sep, delimiter, header, names, index_col, usecols, dtype, engine, converters, true_values, false_values, skipinitialspace, skiprows, skipfooter, nrows, na_values, keep_default_na, na_filter, verbose, skip_blank_lines, parse_dates, infer_datetime_format, keep_date_col, date_parser, date_format, dayfirst, cache_dates, iterator, chunksize, compression, thousands, decimal, lineterminator, quotechar, quoting, doublequote, escapechar, comment, encoding, encoding_errors, dialect, on_bad_lines, delim_whitespace, low_memory, memory_map, float_precision, storage_options, dtype_backend)\u001b[0m\n\u001b[1;32m   1024\u001b[0m     \u001b[0mkwds\u001b[0m\u001b[0;34m.\u001b[0m\u001b[0mupdate\u001b[0m\u001b[0;34m(\u001b[0m\u001b[0mkwds_defaults\u001b[0m\u001b[0;34m)\u001b[0m\u001b[0;34m\u001b[0m\u001b[0;34m\u001b[0m\u001b[0m\n\u001b[1;32m   1025\u001b[0m \u001b[0;34m\u001b[0m\u001b[0m\n\u001b[0;32m-> 1026\u001b[0;31m     \u001b[0;32mreturn\u001b[0m \u001b[0m_read\u001b[0m\u001b[0;34m(\u001b[0m\u001b[0mfilepath_or_buffer\u001b[0m\u001b[0;34m,\u001b[0m \u001b[0mkwds\u001b[0m\u001b[0;34m)\u001b[0m\u001b[0;34m\u001b[0m\u001b[0;34m\u001b[0m\u001b[0m\n\u001b[0m\u001b[1;32m   1027\u001b[0m \u001b[0;34m\u001b[0m\u001b[0m\n\u001b[1;32m   1028\u001b[0m \u001b[0;34m\u001b[0m\u001b[0m\n",
            "\u001b[0;32m/usr/local/lib/python3.10/dist-packages/pandas/io/parsers/readers.py\u001b[0m in \u001b[0;36m_read\u001b[0;34m(filepath_or_buffer, kwds)\u001b[0m\n\u001b[1;32m    618\u001b[0m \u001b[0;34m\u001b[0m\u001b[0m\n\u001b[1;32m    619\u001b[0m     \u001b[0;31m# Create the parser.\u001b[0m\u001b[0;34m\u001b[0m\u001b[0;34m\u001b[0m\u001b[0m\n\u001b[0;32m--> 620\u001b[0;31m     \u001b[0mparser\u001b[0m \u001b[0;34m=\u001b[0m \u001b[0mTextFileReader\u001b[0m\u001b[0;34m(\u001b[0m\u001b[0mfilepath_or_buffer\u001b[0m\u001b[0;34m,\u001b[0m \u001b[0;34m**\u001b[0m\u001b[0mkwds\u001b[0m\u001b[0;34m)\u001b[0m\u001b[0;34m\u001b[0m\u001b[0;34m\u001b[0m\u001b[0m\n\u001b[0m\u001b[1;32m    621\u001b[0m \u001b[0;34m\u001b[0m\u001b[0m\n\u001b[1;32m    622\u001b[0m     \u001b[0;32mif\u001b[0m \u001b[0mchunksize\u001b[0m \u001b[0;32mor\u001b[0m \u001b[0miterator\u001b[0m\u001b[0;34m:\u001b[0m\u001b[0;34m\u001b[0m\u001b[0;34m\u001b[0m\u001b[0m\n",
            "\u001b[0;32m/usr/local/lib/python3.10/dist-packages/pandas/io/parsers/readers.py\u001b[0m in \u001b[0;36m__init__\u001b[0;34m(self, f, engine, **kwds)\u001b[0m\n\u001b[1;32m   1618\u001b[0m \u001b[0;34m\u001b[0m\u001b[0m\n\u001b[1;32m   1619\u001b[0m         \u001b[0mself\u001b[0m\u001b[0;34m.\u001b[0m\u001b[0mhandles\u001b[0m\u001b[0;34m:\u001b[0m \u001b[0mIOHandles\u001b[0m \u001b[0;34m|\u001b[0m \u001b[0;32mNone\u001b[0m \u001b[0;34m=\u001b[0m \u001b[0;32mNone\u001b[0m\u001b[0;34m\u001b[0m\u001b[0;34m\u001b[0m\u001b[0m\n\u001b[0;32m-> 1620\u001b[0;31m         \u001b[0mself\u001b[0m\u001b[0;34m.\u001b[0m\u001b[0m_engine\u001b[0m \u001b[0;34m=\u001b[0m \u001b[0mself\u001b[0m\u001b[0;34m.\u001b[0m\u001b[0m_make_engine\u001b[0m\u001b[0;34m(\u001b[0m\u001b[0mf\u001b[0m\u001b[0;34m,\u001b[0m \u001b[0mself\u001b[0m\u001b[0;34m.\u001b[0m\u001b[0mengine\u001b[0m\u001b[0;34m)\u001b[0m\u001b[0;34m\u001b[0m\u001b[0;34m\u001b[0m\u001b[0m\n\u001b[0m\u001b[1;32m   1621\u001b[0m \u001b[0;34m\u001b[0m\u001b[0m\n\u001b[1;32m   1622\u001b[0m     \u001b[0;32mdef\u001b[0m \u001b[0mclose\u001b[0m\u001b[0;34m(\u001b[0m\u001b[0mself\u001b[0m\u001b[0;34m)\u001b[0m \u001b[0;34m->\u001b[0m \u001b[0;32mNone\u001b[0m\u001b[0;34m:\u001b[0m\u001b[0;34m\u001b[0m\u001b[0;34m\u001b[0m\u001b[0m\n",
            "\u001b[0;32m/usr/local/lib/python3.10/dist-packages/pandas/io/parsers/readers.py\u001b[0m in \u001b[0;36m_make_engine\u001b[0;34m(self, f, engine)\u001b[0m\n\u001b[1;32m   1878\u001b[0m                 \u001b[0;32mif\u001b[0m \u001b[0;34m\"b\"\u001b[0m \u001b[0;32mnot\u001b[0m \u001b[0;32min\u001b[0m \u001b[0mmode\u001b[0m\u001b[0;34m:\u001b[0m\u001b[0;34m\u001b[0m\u001b[0;34m\u001b[0m\u001b[0m\n\u001b[1;32m   1879\u001b[0m                     \u001b[0mmode\u001b[0m \u001b[0;34m+=\u001b[0m \u001b[0;34m\"b\"\u001b[0m\u001b[0;34m\u001b[0m\u001b[0;34m\u001b[0m\u001b[0m\n\u001b[0;32m-> 1880\u001b[0;31m             self.handles = get_handle(\n\u001b[0m\u001b[1;32m   1881\u001b[0m                 \u001b[0mf\u001b[0m\u001b[0;34m,\u001b[0m\u001b[0;34m\u001b[0m\u001b[0;34m\u001b[0m\u001b[0m\n\u001b[1;32m   1882\u001b[0m                 \u001b[0mmode\u001b[0m\u001b[0;34m,\u001b[0m\u001b[0;34m\u001b[0m\u001b[0;34m\u001b[0m\u001b[0m\n",
            "\u001b[0;32m/usr/local/lib/python3.10/dist-packages/pandas/io/common.py\u001b[0m in \u001b[0;36mget_handle\u001b[0;34m(path_or_buf, mode, encoding, compression, memory_map, is_text, errors, storage_options)\u001b[0m\n\u001b[1;32m    871\u001b[0m         \u001b[0;32mif\u001b[0m \u001b[0mioargs\u001b[0m\u001b[0;34m.\u001b[0m\u001b[0mencoding\u001b[0m \u001b[0;32mand\u001b[0m \u001b[0;34m\"b\"\u001b[0m \u001b[0;32mnot\u001b[0m \u001b[0;32min\u001b[0m \u001b[0mioargs\u001b[0m\u001b[0;34m.\u001b[0m\u001b[0mmode\u001b[0m\u001b[0;34m:\u001b[0m\u001b[0;34m\u001b[0m\u001b[0;34m\u001b[0m\u001b[0m\n\u001b[1;32m    872\u001b[0m             \u001b[0;31m# Encoding\u001b[0m\u001b[0;34m\u001b[0m\u001b[0;34m\u001b[0m\u001b[0m\n\u001b[0;32m--> 873\u001b[0;31m             handle = open(\n\u001b[0m\u001b[1;32m    874\u001b[0m                 \u001b[0mhandle\u001b[0m\u001b[0;34m,\u001b[0m\u001b[0;34m\u001b[0m\u001b[0;34m\u001b[0m\u001b[0m\n\u001b[1;32m    875\u001b[0m                 \u001b[0mioargs\u001b[0m\u001b[0;34m.\u001b[0m\u001b[0mmode\u001b[0m\u001b[0;34m,\u001b[0m\u001b[0;34m\u001b[0m\u001b[0;34m\u001b[0m\u001b[0m\n",
            "\u001b[0;31mFileNotFoundError\u001b[0m: [Errno 2] No such file or directory: '/content/drive/MyDrive/Hein Scrapper/authorTestSheet.csv'"
          ]
        }
      ],
      "source": [
        "import pandas as pd\n",
        "\n",
        "# User Data\n",
        "current_user = \"Christos\"\n",
        "if current_user == \"Christos\":\n",
        "  # Define input and output path\n",
        "  author_data_path = \"/content/drive/MyDrive/Hein Scrapper/authorTestSheet.csv\"\n",
        "  output_path = \"/content/drive/MyDrive/Hein Scrapper/heinonline_authors_metrics.csv\"\n",
        "\n",
        "  # Load author data into a DataFrame\n",
        "  author_data = pd.read_csv(author_data_path)\n"
      ]
    },
    {
      "cell_type": "markdown",
      "source": [
        "### Step 1: Libray Set Up\n"
      ],
      "metadata": {
        "id": "Nw6meb4Cgreo"
      }
    },
    {
      "cell_type": "code",
      "source": [
        "# Installs\n",
        "# Install selenium and other dependencies\n",
        "!pip install selenium\n",
        "!pip install beautifulsoup4\n",
        "!pip install pandas"
      ],
      "metadata": {
        "id": "opbf-59Pn83Z"
      },
      "execution_count": null,
      "outputs": []
    },
    {
      "cell_type": "code",
      "source": [
        "# import libraries\n",
        "from selenium import webdriver\n",
        "from selenium.webdriver.common.by import By\n",
        "from selenium.webdriver.common.keys import Keys\n",
        "from selenium.webdriver.chrome.service import Service\n",
        "from selenium.webdriver.chrome.options import Options\n",
        "from bs4 import BeautifulSoup\n",
        "import time\n",
        "import pandas as pd\n",
        "import random"
      ],
      "metadata": {
        "id": "2oeUPXTcgyOs"
      },
      "execution_count": null,
      "outputs": []
    },
    {
      "cell_type": "markdown",
      "source": [
        "#Step 2: Web Driver Creation and Initlialization\n",
        "This section creates the webdriver a directs it to the log-in page and has it log on."
      ],
      "metadata": {
        "id": "7rS18s9siv53"
      }
    },
    {
      "cell_type": "code",
      "source": [
        "%%shell\n",
        "sudo apt -y update\n",
        "sudo apt install -y wget curl unzip\n",
        "wget http://archive.ubuntu.com/ubuntu/pool/main/libu/libu2f-host/libu2f-udev_1.1.4-1_all.deb\n",
        "dpkg -i libu2f-udev_1.1.4-1_all.deb\n",
        "wget https://dl.google.com/linux/direct/google-chrome-stable_current_amd64.deb\n",
        "dpkg -i google-chrome-stable_current_amd64.deb\n",
        "\n",
        "wget -N https://edgedl.me.gvt1.com/edgedl/chrome/chrome-for-testing/118.0.5993.70/linux64/chromedriver-linux64.zip -P /tmp/\n",
        "unzip -o /tmp/chromedriver-linux64.zip -d /tmp/\n",
        "chmod +x /tmp/chromedriver-linux64/chromedriver\n",
        "mv /tmp/chromedriver-linux64/chromedriver /usr/local/bin/chromedriver\n",
        "pip install selenium chromedriver_autoinstaller"
      ],
      "metadata": {
        "id": "P9Dv6gocx9R6"
      },
      "execution_count": null,
      "outputs": []
    },
    {
      "cell_type": "code",
      "source": [
        "import sys\n",
        "sys.path.insert(0,'/usr/lib/chromium-browser/chromedriver')\n",
        "\n",
        "from selenium import webdriver\n",
        "import chromedriver_autoinstaller\n",
        "\n",
        "chrome_options = webdriver.ChromeOptions()\n",
        "chrome_options.add_argument('--headless') # this is must\n",
        "chrome_options.add_argument('--no-sandbox')\n",
        "chrome_options.add_argument('--disable-dev-shm-usage')\n",
        "chromedriver_autoinstaller.install()\n",
        "\n",
        "driver = webdriver.Chrome(options=chrome_options)"
      ],
      "metadata": {
        "id": "_hHPJze1oczs"
      },
      "execution_count": null,
      "outputs": []
    },
    {
      "cell_type": "code",
      "source": [
        "# Navigate to HeinOnline login page\n",
        "login_url = \"https://heinonline-org.ezproxy.bu.edu/login\"\n",
        "driver.get(login_url)\n",
        "\n",
        "# Locate login fields and enter credentials\n",
        "username_field = driver.find_element(By.ID, \"username\")  # Adjust based on actual HTML structure\n",
        "password_field = driver.find_element(By.ID, \"password\")  # Adjust based on actual HTML structure\n",
        "\n",
        "username_field.send_keys(\"Nrt03\")\n",
        "password_field.send_keys(\"B@urdrillard\")\n",
        "password_field.send_keys(Keys.RETURN)  # Press Enter to submit\n",
        "\n",
        "# Wait for the login process to complete\n",
        "time.sleep(3)  # Adjust based on loading time\n",
        "\n",
        "# Optional: Store cookies for session management if needed\n",
        "cookies = driver.get_cookies()"
      ],
      "metadata": {
        "id": "xHSuMm4wg4Z3"
      },
      "execution_count": null,
      "outputs": []
    },
    {
      "cell_type": "markdown",
      "source": [
        "# Step 3: Construct URL and Cycle through Authors\n",
        "This section formats the URL for each author with the values from the Excel file. It then goes to eahc authors page and collects the HTML data from each author's page while varying headers and time intervals between requests."
      ],
      "metadata": {
        "id": "FdPm20YAjAIK"
      }
    },
    {
      "cell_type": "code",
      "source": [
        "# Initialize a DataFrame to store author data and metrics\n",
        "columns = [\n",
        "    \"FirstName\", \"LastName\",\n",
        "    \"Cited Articles (0-5 Years)\", \"Cited Articles (5+ Years)\",\n",
        "    \"Cited Cases (0-5 Years)\", \"Cited Cases (5+ Years)\",\n",
        "    \"Accessed (Past 12 Months)\", \"ScholarRank\",\n",
        "    \"Average Citations per Article\", \"Average Citations per Document\",\n",
        "    \"Self-Citations\", \"H-Index\"\n",
        "]\n",
        "result_data = pd.DataFrame(columns=columns)\n",
        "\n",
        "# Helper function to extract metric based on the <th> text\n",
        "def get_metric(soup, metric_name):\n",
        "    metric_row = soup.find(\"th\", string=metric_name)\n",
        "    if metric_row:\n",
        "        metric_value = metric_row.find_next(\"td\").text.strip()\n",
        "        return metric_value\n",
        "    return \"N/A\"\n",
        "\n",
        "# Iterate through each author and load their profile\n",
        "for index, row in author_data.iterrows():\n",
        "    last_name = row[\"LastName\"]\n",
        "    first_name = row[\"FirstName\"]\n",
        "    author_url = base_url.format(lastName=last_name, firstName=first_name)\n",
        "\n",
        "    # Navigate to the author's page\n",
        "    driver.get(author_url)\n",
        "    time.sleep(random.uniform(2, 5))  # Add a delay to mimic natural browsing\n",
        "\n",
        "    # Get the HTML content and parse with BeautifulSoup\n",
        "    page_html = driver.page_source\n",
        "    soup = BeautifulSoup(page_html, 'html.parser')\n",
        "\n",
        "    # Extract each metric using the helper function\n",
        "    cited_articles_0_5 = get_metric(soup, \"Cited by Articles (0-5 Years)\")\n",
        "    cited_articles_5_plus = get_metric(soup, \"Cited by Articles (5+ Years)\")\n",
        "    cited_cases_0_5 = get_metric(soup, \"Cited by Cases (0-5 Years)\")\n",
        "    cited_cases_5_plus = get_metric(soup, \"Cited by Cases (5+ Years)\")\n",
        "    accessed_past_12_months = get_metric(soup, \"Accessed (Past 12 Months)\")\n",
        "    scholar_rank = get_metric(soup, \"ScholarRank\")\n",
        "    avg_citations_per_article = get_metric(soup, \"Average Citations per Article\")\n",
        "    avg_citations_per_doc = get_metric(soup, \"Average Citations per Document\")\n",
        "    self_citations = get_metric(soup, \"Self-Citations\")\n",
        "    h_index = get_metric(soup, \"H-Index\")\n",
        "\n",
        "    # Append the data for this author into the DataFrame\n",
        "    result_data = result_data.append({\n",
        "        \"FirstName\": first_name,\n",
        "        \"LastName\": last_name,\n",
        "        \"Cited Articles (0-5 Years)\": cited_articles_0_5,\n",
        "        \"Cited Articles (5+ Years)\": cited_articles_5_plus,\n",
        "        \"Cited Cases (0-5 Years)\": cited_cases_0_5,\n",
        "        \"Cited Cases (5+ Years)\": cited_cases_5_plus,\n",
        "        \"Accessed (Past 12 Months)\": accessed_past_12_months,\n",
        "        \"ScholarRank\": scholar_rank,\n",
        "        \"Average Citations per Article\": avg_citations_per_article,\n",
        "        \"Average Citations per Document\": avg_citations_per_doc,\n",
        "        \"Self-Citations\": self_citations,\n",
        "        \"H-Index\": h_index\n",
        "    }, ignore_index=True)\n",
        "\n",
        "# Save the final DataFrame to Google Drive\n",
        "result_data.to_csv(output_path, index=False)"
      ],
      "metadata": {
        "id": "Odg1M-OxjmtW"
      },
      "execution_count": null,
      "outputs": []
    }
  ]
}